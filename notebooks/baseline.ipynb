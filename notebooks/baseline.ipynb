{
 "cells": [
  {
   "cell_type": "code",
   "execution_count": 1,
   "metadata": {
    "ExecuteTime": {
     "end_time": "2021-06-21T09:08:09.437009Z",
     "start_time": "2021-06-21T09:08:09.049227Z"
    }
   },
   "outputs": [],
   "source": [
    "import numpy as np\n",
    "import pandas as pd\n",
    "\n",
    "import os\n",
    "os.environ['NUMEXPR_MAX_THREADS'] = '12'"
   ]
  },
  {
   "cell_type": "markdown",
   "metadata": {},
   "source": [
    "## Data preprocessing"
   ]
  },
  {
   "cell_type": "code",
   "execution_count": 2,
   "metadata": {
    "ExecuteTime": {
     "end_time": "2021-06-21T09:08:09.452911Z",
     "start_time": "2021-06-21T09:08:09.450592Z"
    }
   },
   "outputs": [],
   "source": [
    "alarm_path = \"../datasets/with_topology/2/Alarm.csv\"\n",
    "topo_path = \"../datasets/with_topology/2/Topology.npy\"\n",
    "dag_path = \"../datasets/with_topology/2/DAG.npy\""
   ]
  },
  {
   "cell_type": "code",
   "execution_count": 3,
   "metadata": {
    "ExecuteTime": {
     "end_time": "2021-06-21T09:08:09.543772Z",
     "start_time": "2021-06-21T09:08:09.454795Z"
    }
   },
   "outputs": [],
   "source": [
    "# 历史告警\n",
    "alarm_data = pd.read_csv(alarm_path, encoding ='utf')\n",
    "# 拓扑图\n",
    "topo_matrix = np.load(topo_path)\n",
    "# 因果图\n",
    "dag_matrix = np.load(dag_path)"
   ]
  },
  {
   "cell_type": "code",
   "execution_count": 4,
   "metadata": {
    "ExecuteTime": {
     "end_time": "2021-06-21T09:08:09.581909Z",
     "start_time": "2021-06-21T09:08:09.545691Z"
    }
   },
   "outputs": [
    {
     "data": {
      "text/html": [
       "<div>\n",
       "<style scoped>\n",
       "    .dataframe tbody tr th:only-of-type {\n",
       "        vertical-align: middle;\n",
       "    }\n",
       "\n",
       "    .dataframe tbody tr th {\n",
       "        vertical-align: top;\n",
       "    }\n",
       "\n",
       "    .dataframe thead th {\n",
       "        text-align: right;\n",
       "    }\n",
       "</style>\n",
       "<table border=\"1\" class=\"dataframe\">\n",
       "  <thead>\n",
       "    <tr style=\"text-align: right;\">\n",
       "      <th></th>\n",
       "      <th>alarm_id</th>\n",
       "      <th>device_id</th>\n",
       "      <th>start_timestamp</th>\n",
       "      <th>end_timestamp</th>\n",
       "    </tr>\n",
       "  </thead>\n",
       "  <tbody>\n",
       "    <tr>\n",
       "      <th>0</th>\n",
       "      <td>11</td>\n",
       "      <td>0</td>\n",
       "      <td>14</td>\n",
       "      <td>28</td>\n",
       "    </tr>\n",
       "    <tr>\n",
       "      <th>1</th>\n",
       "      <td>14</td>\n",
       "      <td>2</td>\n",
       "      <td>22</td>\n",
       "      <td>24</td>\n",
       "    </tr>\n",
       "    <tr>\n",
       "      <th>2</th>\n",
       "      <td>11</td>\n",
       "      <td>3</td>\n",
       "      <td>59</td>\n",
       "      <td>198</td>\n",
       "    </tr>\n",
       "    <tr>\n",
       "      <th>3</th>\n",
       "      <td>12</td>\n",
       "      <td>22</td>\n",
       "      <td>61</td>\n",
       "      <td>79</td>\n",
       "    </tr>\n",
       "    <tr>\n",
       "      <th>4</th>\n",
       "      <td>0</td>\n",
       "      <td>34</td>\n",
       "      <td>69</td>\n",
       "      <td>77</td>\n",
       "    </tr>\n",
       "  </tbody>\n",
       "</table>\n",
       "</div>"
      ],
      "text/plain": [
       "   alarm_id  device_id  start_timestamp  end_timestamp\n",
       "0        11          0               14             28\n",
       "1        14          2               22             24\n",
       "2        11          3               59            198\n",
       "3        12         22               61             79\n",
       "4         0         34               69             77"
      ]
     },
     "metadata": {},
     "output_type": "display_data"
    },
    {
     "data": {
      "text/plain": [
       "{0, 1, 2, 3, 4, 5, 6, 7, 8, 9, 10, 11, 12, 13, 14}"
      ]
     },
     "metadata": {},
     "output_type": "display_data"
    }
   ],
   "source": [
    "# 可以添加 duration\n",
    "# 告警序列非常多但是只有少数告警类型\n",
    "display(alarm_data[:5])\n",
    "display(set(alarm_data[\"alarm_id\"]))"
   ]
  },
  {
   "cell_type": "code",
   "execution_count": 5,
   "metadata": {
    "ExecuteTime": {
     "end_time": "2021-06-21T09:08:09.588881Z",
     "start_time": "2021-06-21T09:08:09.584544Z"
    }
   },
   "outputs": [
    {
     "data": {
      "text/plain": [
       "(array([ 0,  0,  1,  2,  3,  3,  3,  4,  4,  5,  5,  6,  7,  8,  8,  9,  9,\n",
       "         9, 10, 11, 11, 11, 12, 12, 13, 13, 13, 13, 13, 14, 14, 15, 16, 16,\n",
       "        16, 16, 17, 17, 17, 17, 17, 17, 17, 17, 18, 19, 20, 21, 22, 23, 23,\n",
       "        23, 24, 24, 25, 25, 26, 26, 27, 28, 29, 30, 30, 31, 31, 31, 32, 33,\n",
       "        33, 34, 35, 35, 36, 36, 36, 37, 37, 38, 38, 38, 39, 40, 40, 41, 42,\n",
       "        43, 44, 44, 45, 45, 45, 46, 47, 47]),\n",
       " array([ 9, 41, 11, 35, 17, 30, 34, 19, 31,  6, 47,  5, 38, 17, 43,  0, 17,\n",
       "        28, 17,  1, 26, 33, 17, 42, 23, 24, 35, 44, 46, 16, 20, 16, 14, 15,\n",
       "        36, 40,  3,  8,  9, 10, 12, 25, 33, 45, 37,  4, 14, 31, 30, 13, 25,\n",
       "        36, 13, 27, 17, 23, 11, 32, 24,  9, 44,  3, 22,  4, 21, 45, 26, 11,\n",
       "        17,  3,  2, 13, 16, 23, 38, 18, 45,  7, 36, 47, 40, 16, 39,  0, 12,\n",
       "         8, 13, 29, 17, 31, 37, 13,  5, 38]))"
      ]
     },
     "execution_count": 5,
     "metadata": {},
     "output_type": "execute_result"
    }
   ],
   "source": [
    "topo_matrix.nonzero()"
   ]
  },
  {
   "cell_type": "code",
   "execution_count": 6,
   "metadata": {
    "ExecuteTime": {
     "end_time": "2021-06-21T09:08:09.594475Z",
     "start_time": "2021-06-21T09:08:09.590921Z"
    },
    "scrolled": true
   },
   "outputs": [
    {
     "data": {
      "text/plain": [
       "(array([ 3,  5,  6,  8,  8,  9, 10, 10, 10, 11, 11, 12, 12, 12, 12, 12, 13,\n",
       "        13, 13, 14, 14, 14, 14, 14]),\n",
       " array([ 2,  4,  4,  2,  6,  6,  4,  5,  6,  0,  3,  4,  5,  8,  9, 10,  7,\n",
       "         9, 10,  1,  2,  4,  7, 13]))"
      ]
     },
     "execution_count": 6,
     "metadata": {},
     "output_type": "execute_result"
    }
   ],
   "source": [
    "dag_matrix.nonzero()"
   ]
  },
  {
   "cell_type": "code",
   "execution_count": 7,
   "metadata": {
    "ExecuteTime": {
     "end_time": "2021-06-21T09:08:09.611306Z",
     "start_time": "2021-06-21T09:08:09.596517Z"
    }
   },
   "outputs": [
    {
     "data": {
      "text/html": [
       "<div>\n",
       "<style scoped>\n",
       "    .dataframe tbody tr th:only-of-type {\n",
       "        vertical-align: middle;\n",
       "    }\n",
       "\n",
       "    .dataframe tbody tr th {\n",
       "        vertical-align: top;\n",
       "    }\n",
       "\n",
       "    .dataframe thead th {\n",
       "        text-align: right;\n",
       "    }\n",
       "</style>\n",
       "<table border=\"1\" class=\"dataframe\">\n",
       "  <thead>\n",
       "    <tr style=\"text-align: right;\">\n",
       "      <th></th>\n",
       "      <th>event</th>\n",
       "      <th>timestamp</th>\n",
       "      <th>node</th>\n",
       "    </tr>\n",
       "  </thead>\n",
       "  <tbody>\n",
       "    <tr>\n",
       "      <th>0</th>\n",
       "      <td>11</td>\n",
       "      <td>14</td>\n",
       "      <td>0</td>\n",
       "    </tr>\n",
       "    <tr>\n",
       "      <th>1</th>\n",
       "      <td>14</td>\n",
       "      <td>22</td>\n",
       "      <td>2</td>\n",
       "    </tr>\n",
       "    <tr>\n",
       "      <th>2</th>\n",
       "      <td>11</td>\n",
       "      <td>59</td>\n",
       "      <td>3</td>\n",
       "    </tr>\n",
       "    <tr>\n",
       "      <th>3</th>\n",
       "      <td>12</td>\n",
       "      <td>61</td>\n",
       "      <td>22</td>\n",
       "    </tr>\n",
       "    <tr>\n",
       "      <th>4</th>\n",
       "      <td>0</td>\n",
       "      <td>69</td>\n",
       "      <td>34</td>\n",
       "    </tr>\n",
       "    <tr>\n",
       "      <th>...</th>\n",
       "      <td>...</td>\n",
       "      <td>...</td>\n",
       "      <td>...</td>\n",
       "    </tr>\n",
       "    <tr>\n",
       "      <th>351457</th>\n",
       "      <td>4</td>\n",
       "      <td>605160</td>\n",
       "      <td>15</td>\n",
       "    </tr>\n",
       "    <tr>\n",
       "      <th>351458</th>\n",
       "      <td>4</td>\n",
       "      <td>605214</td>\n",
       "      <td>16</td>\n",
       "    </tr>\n",
       "    <tr>\n",
       "      <th>351459</th>\n",
       "      <td>4</td>\n",
       "      <td>605225</td>\n",
       "      <td>16</td>\n",
       "    </tr>\n",
       "    <tr>\n",
       "      <th>351460</th>\n",
       "      <td>4</td>\n",
       "      <td>605279</td>\n",
       "      <td>16</td>\n",
       "    </tr>\n",
       "    <tr>\n",
       "      <th>351461</th>\n",
       "      <td>4</td>\n",
       "      <td>605334</td>\n",
       "      <td>16</td>\n",
       "    </tr>\n",
       "  </tbody>\n",
       "</table>\n",
       "<p>351462 rows × 3 columns</p>\n",
       "</div>"
      ],
      "text/plain": [
       "        event  timestamp  node\n",
       "0          11         14     0\n",
       "1          14         22     2\n",
       "2          11         59     3\n",
       "3          12         61    22\n",
       "4           0         69    34\n",
       "...       ...        ...   ...\n",
       "351457      4     605160    15\n",
       "351458      4     605214    16\n",
       "351459      4     605225    16\n",
       "351460      4     605279    16\n",
       "351461      4     605334    16\n",
       "\n",
       "[351462 rows x 3 columns]"
      ]
     },
     "execution_count": 7,
     "metadata": {},
     "output_type": "execute_result"
    }
   ],
   "source": [
    "# baseline 方法测试\n",
    "X = alarm_data.iloc[:,0:3]\n",
    "X.columns=['event','node','timestamp']\n",
    "X = X.reindex(columns=['event','timestamp','node'])\n",
    "X"
   ]
  },
  {
   "cell_type": "markdown",
   "metadata": {},
   "source": [
    "## Model"
   ]
  },
  {
   "cell_type": "code",
   "execution_count": null,
   "metadata": {
    "ExecuteTime": {
     "end_time": "2021-06-21T09:56:09.626449Z",
     "start_time": "2021-06-21T09:08:09.613721Z"
    }
   },
   "outputs": [
    {
     "name": "stderr",
     "output_type": "stream",
     "text": [
      "2021-06-22 14:15:11,221 [iter 0]: likelihood_score = -2260785.050426164\n",
      "2021-06-22 14:20:59,269 [iter 1]: likelihood_score = -2234057.2203537\n",
      "2021-06-22 14:28:30,576 [iter 2]: likelihood_score = -2219038.9166551433\n"
     ]
    }
   ],
   "source": [
    "from castle.algorithms import TTPM\n",
    "ttpm = TTPM(topo_matrix, max_iter=20, max_hop=2)\n",
    "\n",
    "# 迭代时间非常长...\n",
    "ttpm.learn(X)\n",
    "\n",
    "est_causal_matrix = ttpm.causal_matrix.to_numpy()\n",
    "\n",
    "np.save('../output/est_graphs/2.npy',est_causal_matrix)"
   ]
  },
  {
   "cell_type": "markdown",
   "metadata": {},
   "source": [
    "## Evaluation"
   ]
  },
  {
   "cell_type": "code",
   "execution_count": null,
   "metadata": {
    "ExecuteTime": {
     "end_time": "2021-06-21T09:56:10.418880Z",
     "start_time": "2021-06-21T09:56:09.631108Z"
    }
   },
   "outputs": [],
   "source": [
    "from castle.common import GraphDAG\n",
    "from castle.metrics import MetricsDAG\n",
    "GraphDAG(est_causal_matrix, dag_matrix)\n",
    "g_score = MetricsDAG(est_causal_matrix, dag_matrix).metrics['gscore']\n",
    "print(f\"g-score: {g_score}\")\n",
    "# iter 5: 0.2083"
   ]
  },
  {
   "cell_type": "code",
   "execution_count": null,
   "metadata": {
    "ExecuteTime": {
     "end_time": "2021-06-21T09:56:10.444935Z",
     "start_time": "2021-06-21T09:56:10.422891Z"
    }
   },
   "outputs": [],
   "source": [
    "TP = []\n",
    "FP = []\n",
    "FN = []\n",
    "for i in range(len(est_causal_matrix)):\n",
    "    for j in range(len(est_causal_matrix)):\n",
    "        if est_causal_matrix[i][j]==1 and dag_matrix[i][j]==1:\n",
    "            TP.append((i, j))\n",
    "        if est_causal_matrix[i][j]==1 and dag_matrix[i][j]==0:\n",
    "            FP.append((i, j))\n",
    "        if est_causal_matrix[i][j]==0 and dag_matrix[i][j]==1:\n",
    "            FN.append((i, j))\n",
    "display(\"TP {}\".format(len(TP)))\n",
    "display(\"FP {}\".format(len(FP)))\n",
    "display(\"FN {}\".format(len(FN)))"
   ]
  },
  {
   "cell_type": "code",
   "execution_count": null,
   "metadata": {
    "ExecuteTime": {
     "end_time": "2021-06-21T09:56:10.603816Z",
     "start_time": "2021-06-21T09:56:10.450434Z"
    }
   },
   "outputs": [],
   "source": [
    "import networkx as nx\n",
    "from pyvis.network import Network\n",
    "\n",
    "est_net = Network(\"500px\", \"900px\", notebook=True, directed=True, layout=False)\n",
    "\n",
    "est_g = nx.from_numpy_matrix(est_causal_matrix)\n",
    "\n",
    "est_net.from_nx(est_g)\n",
    "est_net.show(\"est_graph.html\")"
   ]
  },
  {
   "cell_type": "code",
   "execution_count": null,
   "metadata": {
    "ExecuteTime": {
     "end_time": "2021-06-21T09:56:10.638363Z",
     "start_time": "2021-06-21T09:56:10.607672Z"
    }
   },
   "outputs": [],
   "source": [
    "true_net = Network(\"500px\", \"900px\", notebook=True, directed= True, layout=False)\n",
    "\n",
    "true_g = nx.from_numpy_matrix(dag_matrix)\n",
    "\n",
    "true_net.from_nx(true_g)\n",
    "true_net.show(\"true_graph.html\")"
   ]
  },
  {
   "cell_type": "code",
   "execution_count": null,
   "metadata": {
    "ExecuteTime": {
     "end_time": "2021-06-21T11:10:02.539588Z",
     "start_time": "2021-06-21T11:10:02.524020Z"
    }
   },
   "outputs": [],
   "source": [
    "topo_net = Network(\"500px\", \"900px\", notebook=True, directed= True, layout=False)\n",
    "\n",
    "topo_g = nx.from_numpy_matrix(topo_matrix)\n",
    "\n",
    "topo_net.from_nx(topo_g)\n",
    "topo_net.show(\"topo.html\")"
   ]
  }
 ],
 "metadata": {
  "kernelspec": {
   "display_name": "Python 3",
   "language": "python",
   "name": "python3"
  },
  "language_info": {
   "codemirror_mode": {
    "name": "ipython",
    "version": 3
   },
   "file_extension": ".py",
   "mimetype": "text/x-python",
   "name": "python",
   "nbconvert_exporter": "python",
   "pygments_lexer": "ipython3",
   "version": "3.7.6"
  },
  "toc": {
   "base_numbering": 1,
   "nav_menu": {},
   "number_sections": true,
   "sideBar": true,
   "skip_h1_title": false,
   "title_cell": "Table of Contents",
   "title_sidebar": "Contents",
   "toc_cell": false,
   "toc_position": {},
   "toc_section_display": true,
   "toc_window_display": true
  }
 },
 "nbformat": 4,
 "nbformat_minor": 4
}
